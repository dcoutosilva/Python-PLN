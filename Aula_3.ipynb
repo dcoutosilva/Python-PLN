{
  "nbformat": 4,
  "nbformat_minor": 0,
  "metadata": {
    "colab": {
      "name": "Aula 3.ipynb",
      "provenance": [],
      "collapsed_sections": [],
      "authorship_tag": "ABX9TyP0JrdNmfs5Ul+ZR+OyCum2",
      "include_colab_link": true
    },
    "kernelspec": {
      "name": "python3",
      "display_name": "Python 3"
    },
    "language_info": {
      "name": "python"
    }
  },
  "cells": [
    {
      "cell_type": "markdown",
      "metadata": {
        "id": "view-in-github",
        "colab_type": "text"
      },
      "source": [
        "<a href=\"https://colab.research.google.com/github/dcoutosilva/Python-PLN/blob/main/Aula_3.ipynb\" target=\"_parent\"><img src=\"https://colab.research.google.com/assets/colab-badge.svg\" alt=\"Open In Colab\"/></a>"
      ]
    },
    {
      "cell_type": "code",
      "metadata": {
        "colab": {
          "base_uri": "https://localhost:8080/"
        },
        "id": "mLJU9geDpo-h",
        "outputId": "929ad892-caeb-4c46-9328-debc05b57311"
      },
      "source": [
        "for i in range(5):\n",
        "    print(i)"
      ],
      "execution_count": null,
      "outputs": [
        {
          "output_type": "stream",
          "name": "stdout",
          "text": [
            "0\n",
            "1\n",
            "2\n",
            "3\n",
            "4\n"
          ]
        }
      ]
    },
    {
      "cell_type": "code",
      "metadata": {
        "colab": {
          "base_uri": "https://localhost:8080/"
        },
        "id": "UTtW9i2hqU33",
        "outputId": "535e3461-410b-460a-9310-2c78f7b3fdc8"
      },
      "source": [
        "#criação de lista\n",
        "lista0=[]\n",
        "print(lista0)\n",
        "\n",
        "lista1=list(range(5))\n",
        "print(lista1)\n",
        "\n",
        "lista2=[0,1,2,3,4]\n",
        "print(lista2)\n",
        "print(type(lista2))"
      ],
      "execution_count": null,
      "outputs": [
        {
          "output_type": "stream",
          "name": "stdout",
          "text": [
            "[]\n",
            "[0, 1, 2, 3, 4]\n",
            "[0, 1, 2, 3, 4]\n",
            "<class 'list'>\n"
          ]
        }
      ]
    },
    {
      "cell_type": "code",
      "metadata": {
        "id": "cBlxF_qVsJn6",
        "colab": {
          "base_uri": "https://localhost:8080/"
        },
        "outputId": "7e6bc43b-48c9-442f-a348-636e86d59383"
      },
      "source": [
        "lista2.append(5)\n",
        "print(lista2)"
      ],
      "execution_count": null,
      "outputs": [
        {
          "output_type": "stream",
          "name": "stdout",
          "text": [
            "[0, 1, 2, 3, 4, 5]\n"
          ]
        }
      ]
    },
    {
      "cell_type": "code",
      "metadata": {
        "colab": {
          "base_uri": "https://localhost:8080/"
        },
        "id": "qG1wzFGxobsG",
        "outputId": "2300f5c1-eac4-4a3e-ebf8-22a51bbff286"
      },
      "source": [
        "lista2[1]= 42\n",
        "print(lista2)\n"
      ],
      "execution_count": null,
      "outputs": [
        {
          "output_type": "stream",
          "name": "stdout",
          "text": [
            "[0, 42, 2, 3, 4, 5]\n"
          ]
        }
      ]
    },
    {
      "cell_type": "code",
      "metadata": {
        "colab": {
          "base_uri": "https://localhost:8080/"
        },
        "id": "bgpvDli_qDiI",
        "outputId": "ec4f3f77-9977-4246-d2c6-5388022be41c"
      },
      "source": [
        "lista2.insert(0,6)\n",
        "print(lista2)\n",
        "#primeiro a posição do vetor(não substitui do vetor original) e depois o numero que você quer.\n",
        "\n",
        "lista2.insert(3,4)\n",
        "print(lista2)"
      ],
      "execution_count": 8,
      "outputs": [
        {
          "output_type": "stream",
          "name": "stdout",
          "text": [
            "[6, 6, 0, 42, 2, 3, 4, 5]\n",
            "[6, 6, 0, 4, 42, 2, 3, 4, 5]\n"
          ]
        }
      ]
    },
    {
      "cell_type": "code",
      "metadata": {
        "id": "Lh1UaIT-rqB5"
      },
      "source": [
        ""
      ],
      "execution_count": null,
      "outputs": []
    }
  ]
}